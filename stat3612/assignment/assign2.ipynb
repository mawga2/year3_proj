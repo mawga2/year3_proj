{
  "cells": [
    {
      "cell_type": "markdown",
      "metadata": {
        "id": "uMNUFTKfX3K1"
      },
      "source": [
        "## STAT3612: Statistical Machine Learning\n",
        "### Assignment 2: Classification\n",
        "### DUE: Nov 10, 2024, Sunday, 11:59 PM"
      ]
    },
    {
      "cell_type": "code",
      "execution_count": 1,
      "metadata": {
        "colab": {
          "base_uri": "https://localhost:8080/"
        },
        "id": "egwwWB0IXZYE",
        "outputId": "33b542fc-0cfc-4acf-bceb-d391fadebe0c"
      },
      "outputs": [
        {
          "name": "stdout",
          "output_type": "stream",
          "text": [
            "Requirement already satisfied: numpy in /Users/fuyingwang/miniconda3/lib/python3.11/site-packages (2.1.2)\n",
            "Requirement already satisfied: pandas in /Users/fuyingwang/miniconda3/lib/python3.11/site-packages (2.2.0)\n",
            "Requirement already satisfied: matplotlib in /Users/fuyingwang/miniconda3/lib/python3.11/site-packages (3.8.2)\n",
            "Requirement already satisfied: scikit-learn in /Users/fuyingwang/miniconda3/lib/python3.11/site-packages (1.4.0)\n",
            "Requirement already satisfied: keras in /Users/fuyingwang/miniconda3/lib/python3.11/site-packages (3.0.5)\n",
            "Collecting numpy\n",
            "  Using cached numpy-1.26.4-cp311-cp311-macosx_10_9_x86_64.whl.metadata (61 kB)\n",
            "Requirement already satisfied: python-dateutil>=2.8.2 in /Users/fuyingwang/miniconda3/lib/python3.11/site-packages (from pandas) (2.8.2)\n",
            "Requirement already satisfied: pytz>=2020.1 in /Users/fuyingwang/miniconda3/lib/python3.11/site-packages (from pandas) (2023.3.post1)\n",
            "Requirement already satisfied: tzdata>=2022.7 in /Users/fuyingwang/miniconda3/lib/python3.11/site-packages (from pandas) (2023.4)\n",
            "Requirement already satisfied: contourpy>=1.0.1 in /Users/fuyingwang/miniconda3/lib/python3.11/site-packages (from matplotlib) (1.2.0)\n",
            "Requirement already satisfied: cycler>=0.10 in /Users/fuyingwang/miniconda3/lib/python3.11/site-packages (from matplotlib) (0.12.1)\n",
            "Requirement already satisfied: fonttools>=4.22.0 in /Users/fuyingwang/miniconda3/lib/python3.11/site-packages (from matplotlib) (4.47.2)\n",
            "Requirement already satisfied: kiwisolver>=1.3.1 in /Users/fuyingwang/miniconda3/lib/python3.11/site-packages (from matplotlib) (1.4.5)\n",
            "Requirement already satisfied: packaging>=20.0 in /Users/fuyingwang/miniconda3/lib/python3.11/site-packages (from matplotlib) (23.1)\n",
            "Requirement already satisfied: pillow>=8 in /Users/fuyingwang/miniconda3/lib/python3.11/site-packages (from matplotlib) (10.2.0)\n",
            "Requirement already satisfied: pyparsing>=2.3.1 in /Users/fuyingwang/miniconda3/lib/python3.11/site-packages (from matplotlib) (3.1.1)\n",
            "Requirement already satisfied: scipy>=1.6.0 in /Users/fuyingwang/miniconda3/lib/python3.11/site-packages (from scikit-learn) (1.12.0)\n",
            "Requirement already satisfied: joblib>=1.2.0 in /Users/fuyingwang/miniconda3/lib/python3.11/site-packages (from scikit-learn) (1.3.2)\n",
            "Requirement already satisfied: threadpoolctl>=2.0.0 in /Users/fuyingwang/miniconda3/lib/python3.11/site-packages (from scikit-learn) (3.2.0)\n",
            "Requirement already satisfied: absl-py in /Users/fuyingwang/miniconda3/lib/python3.11/site-packages (from keras) (2.1.0)\n",
            "Requirement already satisfied: rich in /Users/fuyingwang/miniconda3/lib/python3.11/site-packages (from keras) (13.7.0)\n",
            "Requirement already satisfied: namex in /Users/fuyingwang/miniconda3/lib/python3.11/site-packages (from keras) (0.0.7)\n",
            "Requirement already satisfied: h5py in /Users/fuyingwang/miniconda3/lib/python3.11/site-packages (from keras) (3.10.0)\n",
            "Requirement already satisfied: dm-tree in /Users/fuyingwang/miniconda3/lib/python3.11/site-packages (from keras) (0.1.8)\n",
            "Requirement already satisfied: ml-dtypes in /Users/fuyingwang/miniconda3/lib/python3.11/site-packages (from keras) (0.3.2)\n",
            "Requirement already satisfied: six>=1.5 in /Users/fuyingwang/miniconda3/lib/python3.11/site-packages (from python-dateutil>=2.8.2->pandas) (1.16.0)\n",
            "Requirement already satisfied: markdown-it-py>=2.2.0 in /Users/fuyingwang/miniconda3/lib/python3.11/site-packages (from rich->keras) (3.0.0)\n",
            "Requirement already satisfied: pygments<3.0.0,>=2.13.0 in /Users/fuyingwang/miniconda3/lib/python3.11/site-packages (from rich->keras) (2.17.2)\n",
            "Requirement already satisfied: mdurl~=0.1 in /Users/fuyingwang/miniconda3/lib/python3.11/site-packages (from markdown-it-py>=2.2.0->rich->keras) (0.1.2)\n",
            "Using cached numpy-1.26.4-cp311-cp311-macosx_10_9_x86_64.whl (20.6 MB)\n",
            "Installing collected packages: numpy\n",
            "  Attempting uninstall: numpy\n",
            "    Found existing installation: numpy 2.1.2\n",
            "    Uninstalling numpy-2.1.2:\n",
            "      Successfully uninstalled numpy-2.1.2\n",
            "Successfully installed numpy-1.26.4\n"
          ]
        }
      ],
      "source": [
        "! pip install numpy pandas matplotlib scikit-learn keras"
      ]
    },
    {
      "cell_type": "code",
      "execution_count": null,
      "metadata": {
        "id": "sy1aMtfMc3oQ"
      },
      "outputs": [],
      "source": [
        "# Q7 (a)\n",
        "\n",
        "# ------------------\n",
        "# Write your code here\n",
        "\n",
        "\n",
        "# ------------------"
      ]
    },
    {
      "cell_type": "code",
      "execution_count": null,
      "metadata": {
        "id": "uN67OkQ-c4VT"
      },
      "outputs": [],
      "source": [
        "# Q7 (b)\n",
        "\n",
        "# ------------------\n",
        "# Write your code here\n",
        "\n",
        "\n",
        "# ------------------"
      ]
    },
    {
      "cell_type": "code",
      "execution_count": 3,
      "metadata": {
        "colab": {
          "base_uri": "https://localhost:8080/"
        },
        "id": "eufIxXM9X1Po",
        "outputId": "04374f8c-f4eb-4de7-bf97-3af969d2d337"
      },
      "outputs": [
        {
          "name": "stdout",
          "output_type": "stream",
          "text": [
            "Downloading data from https://www.cs.toronto.edu/~kriz/cifar-10-python.tar.gz\n",
            "170498071/170498071 [==============================] - 10s 0us/step\n",
            "X_train shape: (50000, 32, 32, 3)\n",
            "X_test shape: (10000, 32, 32, 3)\n",
            "y_train shape: (50000, 1)\n",
            "y_test shape: (10000, 1)\n"
          ]
        }
      ],
      "source": [
        "from keras.datasets import cifar10\n",
        "\n",
        "(X_train, y_train), (X_test, y_test) = cifar10.load_data()\n",
        "print('X_train shape:', X_train.shape)\n",
        "print('X_test shape:', X_test.shape)\n",
        "print('y_train shape:', y_train.shape)\n",
        "print('y_test shape:', y_test.shape)"
      ]
    },
    {
      "cell_type": "markdown",
      "metadata": {
        "id": "vX6Sx7jLZX3r"
      },
      "source": [
        "Consider flatten the images to 1D vectors and make the shape of the X be (Batch, dim)."
      ]
    },
    {
      "cell_type": "code",
      "execution_count": null,
      "metadata": {
        "id": "nFl5cHDzadcO"
      },
      "outputs": [],
      "source": [
        "# Q8 (a)\n",
        "\n",
        "# ------------------\n",
        "# Write your code here\n",
        "\n",
        "\n",
        "# ------------------"
      ]
    },
    {
      "cell_type": "code",
      "execution_count": null,
      "metadata": {
        "id": "4HKSMHJTbXEB"
      },
      "outputs": [],
      "source": [
        "# Q8 (b)\n",
        "\n",
        "def train_with_SGD(model, X_train, y_train, lr, epoch_num):\n",
        "\n",
        "  # ------------------\n",
        "  # Write your code here\n",
        "\n",
        "\n",
        "  # ------------------\n",
        "\n",
        "  return model\n",
        "\n",
        "\n",
        "def test(model, X_test, y_test):\n",
        "\n",
        "  # ------------------\n",
        "  # Write your code here\n",
        "\n",
        "\n",
        "  # ------------------\n",
        "\n",
        "\n",
        "# ------------------\n",
        "# Write your code here\n",
        "\n",
        "\n",
        "\n",
        "\n",
        "\n",
        "\n",
        "\n",
        "\n",
        "# ------------------"
      ]
    }
  ],
  "metadata": {
    "colab": {
      "provenance": []
    },
    "kernelspec": {
      "display_name": "Python 3",
      "name": "python3"
    },
    "language_info": {
      "codemirror_mode": {
        "name": "ipython",
        "version": 3
      },
      "file_extension": ".py",
      "mimetype": "text/x-python",
      "name": "python",
      "nbconvert_exporter": "python",
      "pygments_lexer": "ipython3",
      "version": "3.11.5"
    }
  },
  "nbformat": 4,
  "nbformat_minor": 0
}
